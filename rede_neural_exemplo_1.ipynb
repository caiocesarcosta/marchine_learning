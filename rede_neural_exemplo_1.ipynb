{
  "nbformat": 4,
  "nbformat_minor": 0,
  "metadata": {
    "colab": {
      "provenance": [],
      "toc_visible": true,
      "authorship_tag": "ABX9TyPzSwcSO1XYrCETIvPucVEK",
      "include_colab_link": true
    },
    "kernelspec": {
      "name": "python3",
      "display_name": "Python 3"
    },
    "language_info": {
      "name": "python"
    }
  },
  "cells": [
    {
      "cell_type": "markdown",
      "metadata": {
        "id": "view-in-github",
        "colab_type": "text"
      },
      "source": [
        "<a href=\"https://colab.research.google.com/github/caiocesarcosta/marchine_learning/blob/main/rede_neural_exemplo_1.ipynb\" target=\"_parent\"><img src=\"https://colab.research.google.com/assets/colab-badge.svg\" alt=\"Open In Colab\"/></a>"
      ]
    },
    {
      "cell_type": "code",
      "execution_count": null,
      "metadata": {
        "id": "nwE70QZr18YH"
      },
      "outputs": [],
      "source": [
        "import numpy as np\n",
        "import torch\n",
        "import torch.nn.functional as F\n",
        "import torchvision\n",
        "import matplotlib.pyplot as plt\n",
        "from time import time\n",
        "from  torchvision import datasets, transforms\n",
        "from torch import nn, optim\n",
        "\n",
        "\n",
        "\n",
        "\n",
        "\n"
      ]
    },
    {
      "cell_type": "code",
      "source": [
        "# Define the transformation to convert images to tensors\n",
        "transform = transforms.ToTensor()\n",
        "\n",
        "# Load the training dataset\n",
        "trainset = datasets.MNIST('./MNIST_data/', download=True, train=True, transform=transform)\n",
        "trainloader = torch.utils.data.DataLoader(trainset, batch_size=64, shuffle=True)\n",
        "\n",
        "# Load the validation dataset\n",
        "valset = datasets.MNIST('./MNIST_data/', download=True, train=False, transform=transform)\n",
        "valloader = torch.utils.data.DataLoader(valset, batch_size=64, shuffle=True)\n",
        "\n"
      ],
      "metadata": {
        "id": "vCc_SftMLn7q"
      },
      "execution_count": null,
      "outputs": []
    },
    {
      "cell_type": "code",
      "source": [
        "# Create an iterator for the trainloader\n",
        "dataiter = iter(trainloader)\n",
        "\n",
        "# Get a batch of images and labels\n",
        "#imagens, etiquetas = dataiter.next()\n",
        "\n",
        "for imagens, etiquetas in dataiter:\n",
        "    plt.imshow(imagens[0].numpy().squeeze(), cmap='gray_r')\n",
        "    plt.show()\n",
        "    break  # Adicione um break para mostrar apenas uma imagem\n",
        "\n",
        "# Display the first image in the batch\n",
        "#plt.imshow(imagens[0].numpy().squeeze(), cmap='gray_r')\n",
        "#plt.show()"
      ],
      "metadata": {
        "colab": {
          "base_uri": "https://localhost:8080/",
          "height": 430
        },
        "id": "oEYzOVdXN6Zf",
        "outputId": "16303e15-6485-4245-d6f0-1d7d681e8070"
      },
      "execution_count": null,
      "outputs": [
        {
          "output_type": "display_data",
          "data": {
            "text/plain": [
              "<Figure size 640x480 with 1 Axes>"
            ],
            "image/png": "[encoded data removed]"
          },
          "metadata": {}
        }
      ]
    },
    {
      "cell_type": "code",
      "source": [
        "print(imagens[0].shape) #para verificar as dimensões de cada imagem\n",
        "print(etiquetas[0].shape) # para verificar as dimensões de cada etiqueta"
      ],
      "metadata": {
        "colab": {
          "base_uri": "https://localhost:8080/"
        },
        "id": "AyZ8VaaVRjtT",
        "outputId": "9c90a11d-7a37-4e88-bca0-506b125f371c"
      },
      "execution_count": null,
      "outputs": [
        {
          "output_type": "stream",
          "name": "stdout",
          "text": [
            "torch.Size([1, 28, 28])\n",
            "torch.Size([])\n"
          ]
        }
      ]
    },
    {
      "cell_type": "code",
      "source": [
        "class Modelo(nn.Module):\n",
        "    def __init__(self):\n",
        "        super(Modelo, self).__init__()\n",
        "        self.linear1 = nn.Linear(28 * 28, 128)  # Input layer (784 neurons -> 128)\n",
        "        self.linear2 = nn.Linear(128, 64)      # Hidden layer 1 (128 neurons -> 64)\n",
        "        self.linear3 = nn.Linear(64, 10)       # Output layer (64 neurons -> 10)\n",
        "\n",
        "    def forward(self, x):\n",
        "        x = F.relu(self.linear1(x))  # ReLU activation after the first linear layer.\n",
        "        x = F.relu(self.linear2(x))  # ReLU activation after the second linear layer.\n",
        "        x = self.linear3(x)          # No activation function in the output layer for log_softmax.\n",
        "        return F.log_softmax(x, dim=1) # Log-softmax for multi-class classification."
      ],
      "metadata": {
        "id": "kKImUt76Rk76"
      },
      "execution_count": null,
      "outputs": []
    },
    {
      "cell_type": "code",
      "source": [
        "def treino(modelo, trainloader, device):\n",
        "    optimizador = optim.SGD(modelo.parameters(), lr=0.01, momentum=0.5)  # SGD optimizer\n",
        "    inicio = time.time()                                                # Start time\n",
        "    criterio = nn.NLLLoss()                                             # Negative Log Likelihood Loss\n",
        "    EPOCHS = 10                                                        # Number of epochs\n",
        "\n",
        "    modelo.to(device)  # Move the model to the specified device (CPU or GPU)\n",
        "    modelo.train()     # Set the model to training mode\n",
        "\n",
        "    for epoch in range(EPOCHS):\n",
        "        perda_acumulada = 0\n",
        "        for imagens, etiquetas in trainloader:\n",
        "            imagens = imagens.view(imagens.shape[0], -1).to(device) # Flatten images and move to device\n",
        "            optimizador.zero_grad()                             # Zero out gradients\n",
        "            output = modelo(imagens)                               # Forward pass\n",
        "            perda_instantânea = criterio(output, etiquetas.to(device)) # Calculate loss\n",
        "            perda_instantânea.backward()                           # Backpropagation\n",
        "            optimizador.step()                                    # Update weights\n",
        "            perda_acumulada += perda_instantanea.item() # atualização da perda acumulada\n"
      ],
      "metadata": {
        "id": "_OSe-NpOSG-E"
      },
      "execution_count": null,
      "outputs": []
    },
    {
      "cell_type": "code",
      "source": [
        "def validacao(modelo, valloader, device):\n",
        "    conta_corretas = 0\n",
        "    conta_todas = 0\n",
        "    modelo.to(device)\n",
        "    modelo.eval() # Set model to evaluation mode\n",
        "\n",
        "    with torch.no_grad(): # Deactivate autograd for faster evaluation\n",
        "        for imagens, etiquetas in valloader:\n",
        "            img = imagens.view(imagens.shape[0], -1).to(device) # Flatten images and move to device\n",
        "\n",
        "            logps = modelo(img) # Model output (log probabilities)\n",
        "            ps = torch.exp(logps) # Convert to probabilities\n",
        "\n",
        "            probabilidades = list(ps.cpu().numpy()) # Move to CPU and convert to NumPy array\n",
        "\n",
        "            # Get predicted class (index with the highest probability)\n",
        "            etiquetas_pred = [probabilidade.argmax() for probabilidade in probabilidades]\n",
        "\n",
        "\n",
        "            # Convert labels to NumPy array for comparison (needed if the input is a PyTorch tensor)\n",
        "            etiquetas_certas = etiquetas.cpu().numpy()\n",
        "\n",
        "            for etiqueta_certa, etiqueta_pred in zip(etiquetas_certas, etiquetas_pred):\n",
        "                if etiqueta_certa == etiqueta_pred:\n",
        "                    conta_corretas += 1\n",
        "                conta_todas += 1\n",
        "\n",
        "\n",
        "    print(f\"Total de imagens testadas: {conta_todas}\")\n",
        "    print(f\"Precisão do modelo: {conta_corretas*100/conta_todas:.2f}%\")"
      ],
      "metadata": {
        "id": "Qvp3oTBXUOiH"
      },
      "execution_count": null,
      "outputs": []
    },
    {
      "cell_type": "code",
      "source": [
        "# Assuming 'Modelo' is defined from a previous code snippet\n",
        "modelo = Modelo()\n",
        "\n",
        "# Determine device (GPU if available, otherwise CPU)\n",
        "device = torch.device(\"cuda\" if torch.cuda.is_available() else \"cpu\")\n",
        "\n",
        "# Move the model to the selected device\n",
        "modelo.to(device)"
      ],
      "metadata": {
        "colab": {
          "base_uri": "https://localhost:8080/"
        },
        "id": "25c4tyQ1U8da",
        "outputId": "030140b3-97cc-4683-e37d-412269220524"
      },
      "execution_count": null,
      "outputs": [
        {
          "output_type": "execute_result",
          "data": {
            "text/plain": [
              "Modelo(\n",
              "  (linear1): Linear(in_features=784, out_features=128, bias=True)\n",
              "  (linear2): Linear(in_features=128, out_features=64, bias=True)\n",
              "  (linear3): Linear(in_features=64, out_features=10, bias=True)\n",
              ")"
            ]
          },
          "metadata": {},
          "execution_count": 20
        }
      ]
    }
  ]
}